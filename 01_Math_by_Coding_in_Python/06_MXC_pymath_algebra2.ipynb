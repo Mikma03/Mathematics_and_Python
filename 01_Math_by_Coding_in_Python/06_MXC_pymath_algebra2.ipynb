{
 "cells": [
  {
   "cell_type": "markdown",
   "metadata": {},
   "source": [
    "# COURSE: Master math by coding in Python\n",
    "## SECTION: Algebra 2\n",
    "\n",
    "#### https://www.udemy.com/course/math-with-python/?couponCode=MXC-DISC4ALL\n",
    "#### INSTRUCTOR: sincxpress.com\n",
    "\n",
    "Note about this code: Each video in this section of the course corresponds to a section of code below. Please note that this code roughly matches the code shown in the live recording, but is not exactly the same -- the variable names, order of lines, and parameters may be slightly different. "
   ]
  },
  {
   "cell_type": "code",
   "execution_count": 1,
   "metadata": {},
   "outputs": [],
   "source": [
    "import sympy as sym\n",
    "import numpy as np\n",
    "import scipy as sp\n",
    "import matplotlib.pyplot as plt\n",
    "from IPython.display import display, Math"
   ]
  },
  {
   "cell_type": "markdown",
   "metadata": {},
   "source": [
    "# VIDEO: Summation and products"
   ]
  },
  {
   "cell_type": "code",
   "execution_count": 2,
   "metadata": {},
   "outputs": [
    {
     "name": "stdout",
     "output_type": "stream",
     "text": [
      "15\n",
      "15\n"
     ]
    }
   ],
   "source": [
    "lst = [1,3,4,1,6]\n",
    "\n",
    "print( sum(lst) )\n",
    "print( np.sum(lst) )\n"
   ]
  },
  {
   "cell_type": "code",
   "execution_count": 3,
   "metadata": {},
   "outputs": [
    {
     "data": {
      "text/plain": [
       "72"
      ]
     },
     "execution_count": 3,
     "metadata": {},
     "output_type": "execute_result"
    }
   ],
   "source": [
    "np.prod(lst)"
   ]
  },
  {
   "cell_type": "code",
   "execution_count": 4,
   "metadata": {},
   "outputs": [
    {
     "data": {
      "image/png": "[encoded data removed]",
      "text/plain": [
       "<Figure size 432x288 with 1 Axes>"
      ]
     },
     "metadata": {
      "needs_background": "light"
     },
     "output_type": "display_data"
    }
   ],
   "source": [
    "# cumulative summation\n",
    "np.cumsum(lst)\n",
    "\n",
    "plt.plot(lst,'rs-')\n",
    "plt.plot(np.cumsum(lst),'bo-')\n",
    "plt.legend({'list','cumsum'})\n",
    "plt.show()"
   ]
  },
  {
   "cell_type": "markdown",
   "metadata": {},
   "source": [
    "### Exercise"
   ]
  },
  {
   "cell_type": "code",
   "execution_count": 5,
   "metadata": {},
   "outputs": [
    {
     "name": "stdout",
     "output_type": "stream",
     "text": [
      "Option 1 = 0.2727272727272727\n",
      "Option 2 = 0.06666666666666667\n"
     ]
    }
   ],
   "source": [
    "# generate numerator\n",
    "num = np.arange(1,6)\n",
    "den = num**2\n",
    "\n",
    "ans1 = np.sum(num) / np.sum(den)\n",
    "ans2 = 1 / np.sum(num)\n",
    "\n",
    "print('Option 1 = %s\\nOption 2 = %s' %(ans1,ans2))"
   ]
  },
  {
   "cell_type": "code",
   "execution_count": 6,
   "metadata": {},
   "outputs": [
    {
     "name": "stdout",
     "output_type": "stream",
     "text": [
      "Option 1 = 0.008333333333333333\n",
      "Option 2 = 0.008333333333333333\n"
     ]
    }
   ],
   "source": [
    "# then repeat with prod\n",
    "ans1 = np.prod(num) / np.prod(den)\n",
    "ans2 = 1 / np.prod(num)\n",
    "\n",
    "print('Option 1 = %s\\nOption 2 = %s' %(ans1,ans2))"
   ]
  },
  {
   "cell_type": "markdown",
   "metadata": {},
   "source": [
    "# VIDEO: Differences (discrete derivative)"
   ]
  },
  {
   "cell_type": "code",
   "execution_count": 7,
   "metadata": {},
   "outputs": [
    {
     "name": "stdout",
     "output_type": "stream",
     "text": [
      "1\n"
     ]
    }
   ],
   "source": [
    "print(2-1)"
   ]
  },
  {
   "cell_type": "code",
   "execution_count": 8,
   "metadata": {},
   "outputs": [
    {
     "data": {
      "text/plain": [
       "array([1])"
      ]
     },
     "execution_count": 8,
     "metadata": {},
     "output_type": "execute_result"
    }
   ],
   "source": [
    "v = [1,2]\n",
    "np.diff(v)"
   ]
  },
  {
   "cell_type": "code",
   "execution_count": 9,
   "metadata": {},
   "outputs": [
    {
     "data": {
      "text/plain": [
       "array([  1,   2, -14])"
      ]
     },
     "execution_count": 9,
     "metadata": {},
     "output_type": "execute_result"
    }
   ],
   "source": [
    "v = [1,2,4,-10]\n",
    "np.diff(v)"
   ]
  },
  {
   "cell_type": "code",
   "execution_count": 10,
   "metadata": {},
   "outputs": [
    {
     "name": "stdout",
     "output_type": "stream",
     "text": [
      "[ 0  1  2  3  4  5  6  7  8  9 10]\n",
      "[1 1 1 1 1 1 1 1 1 1]\n",
      "[0 0 0 0 0 0 0 0 0]\n",
      "[0 0 0 0 0 0 0 0 0]\n"
     ]
    }
   ],
   "source": [
    "v = np.arange(0,11)\n",
    "print(v)\n",
    "print(np.diff(v))\n",
    "print(np.diff(v,2))\n",
    "print(np.diff(np.diff(v)))"
   ]
  },
  {
   "cell_type": "markdown",
   "metadata": {},
   "source": [
    "### Exercise"
   ]
  },
  {
   "cell_type": "code",
   "execution_count": 11,
   "metadata": {},
   "outputs": [
    {
     "data": {
      "image/png": "[encoded data removed]",
      "text/plain": [
       "<Figure size 432x288 with 1 Axes>"
      ]
     },
     "metadata": {
      "needs_background": "light"
     },
     "output_type": "display_data"
    }
   ],
   "source": [
    "# plot x^2 and its derivative\n",
    "x = np.linspace(-2,2,1021)\n",
    "f = x**2\n",
    "df = np.diff(f)\n",
    "dx = np.diff(x)\n",
    "\n",
    "plt.plot(x,f,label='f')\n",
    "plt.plot(x[0:-1],df/dx,'r',label='df/dx')\n",
    "\n",
    "plt.axis([-2,2,-1,2])\n",
    "plt.grid()\n",
    "plt.legend()\n",
    "plt.show()"
   ]
  },
  {
   "cell_type": "code",
   "execution_count": null,
   "metadata": {},
   "outputs": [],
   "source": []
  },
  {
   "cell_type": "markdown",
   "metadata": {},
   "source": [
    "# VIDEO: Roots of polynomials"
   ]
  },
  {
   "cell_type": "code",
   "execution_count": 12,
   "metadata": {},
   "outputs": [
    {
     "name": "stdout",
     "output_type": "stream",
     "text": [
      "[-1.          0.33333333]\n"
     ]
    }
   ],
   "source": [
    "### the equation:\n",
    "# 3x^2 + 2x - 1\n",
    "\n",
    "# define the coefficients\n",
    "coefs = [3,2,-1]\n",
    "\n",
    "# and solve\n",
    "roots = np.roots(coefs)\n",
    "\n",
    "print(roots)"
   ]
  },
  {
   "cell_type": "code",
   "execution_count": 13,
   "metadata": {},
   "outputs": [
    {
     "data": {
      "text/latex": [
       "$\\displaystyle \\text{At x=}-1\\text{, }3 x^{2} + 2 x - 1 = 0$"
      ],
      "text/plain": [
       "<IPython.core.display.Math object>"
      ]
     },
     "metadata": {},
     "output_type": "display_data"
    },
    {
     "data": {
      "text/latex": [
       "$\\displaystyle \\text{At x=}0.333333\\text{, }3 x^{2} + 2 x - 1 = -5.55112e-17$"
      ],
      "text/plain": [
       "<IPython.core.display.Math object>"
      ]
     },
     "metadata": {},
     "output_type": "display_data"
    }
   ],
   "source": [
    "# solve\n",
    "from sympy.abc import x\n",
    "\n",
    "eq = 3*x**2 + 2*x - 1\n",
    "\n",
    "for i in roots:\n",
    "    display(Math('\\\\text{At x=}%g\\\\text{, }%s = %g' %(i,sym.latex(eq),eq.subs(x,i))))\n",
    "    "
   ]
  },
  {
   "cell_type": "code",
   "execution_count": 14,
   "metadata": {},
   "outputs": [
    {
     "ename": "TypeError",
     "evalue": "dispatcher for __array_function__ did not return an iterable",
     "output_type": "error",
     "traceback": [
      "\u001b[1;31m---------------------------------------------------------------------------\u001b[0m",
      "\u001b[1;31mTypeError\u001b[0m                                 Traceback (most recent call last)",
      "\u001b[1;32m~\\AppData\\Local\\Temp/ipykernel_12120/3618640405.py\u001b[0m in \u001b[0;36m<module>\u001b[1;34m\u001b[0m\n\u001b[0;32m      1\u001b[0m \u001b[1;31m# zero-degree polynomial\u001b[0m\u001b[1;33m\u001b[0m\u001b[1;33m\u001b[0m\u001b[0m\n\u001b[1;32m----> 2\u001b[1;33m \u001b[0mnp\u001b[0m\u001b[1;33m.\u001b[0m\u001b[0mroots\u001b[0m\u001b[1;33m(\u001b[0m\u001b[1;36m8\u001b[0m\u001b[1;33m)\u001b[0m\u001b[1;33m\u001b[0m\u001b[1;33m\u001b[0m\u001b[0m\n\u001b[0m",
      "\u001b[1;32m<__array_function__ internals>\u001b[0m in \u001b[0;36mroots\u001b[1;34m(*args, **kwargs)\u001b[0m\n",
      "\u001b[1;31mTypeError\u001b[0m: dispatcher for __array_function__ did not return an iterable"
     ]
    }
   ],
   "source": [
    "# zero-degree polynomial\n",
    "np.roots(8)"
   ]
  },
  {
   "cell_type": "markdown",
   "metadata": {},
   "source": [
    "### Exercise"
   ]
  },
  {
   "cell_type": "code",
   "execution_count": 15,
   "metadata": {
    "scrolled": true
   },
   "outputs": [
    {
     "name": "stdout",
     "output_type": "stream",
     "text": [
      "A degree-0 polynomial has 0 roots\n",
      "A degree-1 polynomial has 1 roots\n",
      "A degree-2 polynomial has 2 roots\n",
      "A degree-3 polynomial has 3 roots\n",
      "A degree-4 polynomial has 4 roots\n",
      "A degree-5 polynomial has 5 roots\n",
      "A degree-6 polynomial has 6 roots\n",
      "A degree-7 polynomial has 7 roots\n",
      "A degree-8 polynomial has 8 roots\n",
      "A degree-9 polynomial has 9 roots\n"
     ]
    }
   ],
   "source": [
    "# for different polynomial degrees, count the number of roots\n",
    "\n",
    "for i in range(1,11):\n",
    "    coefs = np.arange(1,i+1)\n",
    "    print('A degree-%s polynomial has %s roots' %(len(coefs)-1,len(np.roots(coefs))))"
   ]
  },
  {
   "cell_type": "markdown",
   "metadata": {},
   "source": [
    "# VIDEO: The quadratic equation and functions"
   ]
  },
  {
   "cell_type": "code",
   "execution_count": 16,
   "metadata": {},
   "outputs": [
    {
     "name": "stdout",
     "output_type": "stream",
     "text": [
      "-1.0 -2.5\n"
     ]
    }
   ],
   "source": [
    "# the quadratic equation\n",
    "\n",
    "a = 2\n",
    "b = 7\n",
    "c = 5\n",
    "\n",
    "quadeqP = ( -b + np.sqrt(b**2 - 4*a*c) ) / (2*a)\n",
    "quadeqM = ( -b - np.sqrt(b**2 - 4*a*c) ) / (2*a)\n",
    "\n",
    "print(quadeqP,quadeqM)"
   ]
  },
  {
   "cell_type": "code",
   "execution_count": 17,
   "metadata": {},
   "outputs": [
    {
     "name": "stdout",
     "output_type": "stream",
     "text": [
      "(-1.1666666666666665+0.5527707983925666j) (-1.1666666666666665-0.5527707983925666j)\n"
     ]
    },
    {
     "name": "stderr",
     "output_type": "stream",
     "text": [
      "C:\\Users\\mikol\\AppData\\Local\\Temp/ipykernel_12120/3927931790.py:7: DeprecationWarning: scipy.sqrt is deprecated and will be removed in SciPy 2.0.0, use numpy.lib.scimath.sqrt instead\n",
      "  quadeqP = ( -b + sp.sqrt(b**2 - 4*a*c) ) / (2*a)\n",
      "C:\\Users\\mikol\\AppData\\Local\\Temp/ipykernel_12120/3927931790.py:8: DeprecationWarning: scipy.sqrt is deprecated and will be removed in SciPy 2.0.0, use numpy.lib.scimath.sqrt instead\n",
      "  quadeqM = ( -b - sp.sqrt(b**2 - 4*a*c) ) / (2*a)\n"
     ]
    }
   ],
   "source": [
    "# you can use scipy instead of numpy for complex results to sqrt...\n",
    "\n",
    "a = 3\n",
    "b = 7\n",
    "c = 5\n",
    "\n",
    "quadeqP = ( -b + sp.sqrt(b**2 - 4*a*c) ) / (2*a)\n",
    "quadeqM = ( -b - sp.sqrt(b**2 - 4*a*c) ) / (2*a)\n",
    "\n",
    "print(quadeqP,quadeqM)"
   ]
  },
  {
   "cell_type": "code",
   "execution_count": 18,
   "metadata": {},
   "outputs": [
    {
     "name": "stdout",
     "output_type": "stream",
     "text": [
      "(-1.1666666666666665+0.5527707983925666j) (-1.1666666666666665-0.5527707983925666j)\n"
     ]
    }
   ],
   "source": [
    "# ... or explicitly tell numpy to allow complex-valued solutions\n",
    "\n",
    "a = 3\n",
    "b = 7\n",
    "c = 5\n",
    "\n",
    "quadeqP = ( -b + np.sqrt(b**2 - 4*a*c,dtype=complex) ) / (2*a)\n",
    "quadeqM = ( -b - np.sqrt(b**2 - 4*a*c,dtype=complex) ) / (2*a)\n",
    "\n",
    "print(quadeqP,quadeqM)"
   ]
  },
  {
   "cell_type": "code",
   "execution_count": 19,
   "metadata": {},
   "outputs": [],
   "source": [
    "# as a function!\n",
    "\n",
    "def quadeq(a,b,c):\n",
    "    \n",
    "    # initialize\n",
    "    out = sp.zeros(2)\n",
    "    \n",
    "    # compute\n",
    "    out[0] = ( -b - sp.sqrt(b**2 - 4*a*c) ) / (2*a)\n",
    "    out[1] = ( -b + sp.sqrt(b**2 - 4*a*c) ) / (2*a)\n",
    "    \n",
    "    # output\n",
    "    return out"
   ]
  },
  {
   "cell_type": "code",
   "execution_count": 20,
   "metadata": {},
   "outputs": [
    {
     "name": "stdout",
     "output_type": "stream",
     "text": [
      "[-3.18614066 -0.31385934]\n",
      "[-4.44948974  0.44948974]\n"
     ]
    },
    {
     "name": "stderr",
     "output_type": "stream",
     "text": [
      "C:\\Users\\mikol\\AppData\\Local\\Temp/ipykernel_12120/441505114.py:6: DeprecationWarning: scipy.zeros is deprecated and will be removed in SciPy 2.0.0, use numpy.zeros instead\n",
      "  out = sp.zeros(2)\n",
      "C:\\Users\\mikol\\AppData\\Local\\Temp/ipykernel_12120/441505114.py:9: DeprecationWarning: scipy.sqrt is deprecated and will be removed in SciPy 2.0.0, use numpy.lib.scimath.sqrt instead\n",
      "  out[0] = ( -b - sp.sqrt(b**2 - 4*a*c) ) / (2*a)\n",
      "C:\\Users\\mikol\\AppData\\Local\\Temp/ipykernel_12120/441505114.py:10: DeprecationWarning: scipy.sqrt is deprecated and will be removed in SciPy 2.0.0, use numpy.lib.scimath.sqrt instead\n",
      "  out[1] = ( -b + sp.sqrt(b**2 - 4*a*c) ) / (2*a)\n"
     ]
    }
   ],
   "source": [
    "# test!\n",
    "print(quadeq(2,7,2))\n",
    "\n",
    "print(quadeq(1,4,-2))"
   ]
  },
  {
   "cell_type": "markdown",
   "metadata": {},
   "source": [
    "### Exercise"
   ]
  },
  {
   "cell_type": "code",
   "execution_count": 21,
   "metadata": {},
   "outputs": [
    {
     "name": "stderr",
     "output_type": "stream",
     "text": [
      "C:\\Users\\mikol\\AppData\\Local\\Temp/ipykernel_12120/441505114.py:6: DeprecationWarning: scipy.zeros is deprecated and will be removed in SciPy 2.0.0, use numpy.zeros instead\n",
      "  out = sp.zeros(2)\n",
      "C:\\Users\\mikol\\AppData\\Local\\Temp/ipykernel_12120/441505114.py:9: DeprecationWarning: scipy.sqrt is deprecated and will be removed in SciPy 2.0.0, use numpy.lib.scimath.sqrt instead\n",
      "  out[0] = ( -b - sp.sqrt(b**2 - 4*a*c) ) / (2*a)\n",
      "C:\\Users\\mikol\\AppData\\Local\\Temp/ipykernel_12120/441505114.py:10: DeprecationWarning: scipy.sqrt is deprecated and will be removed in SciPy 2.0.0, use numpy.lib.scimath.sqrt instead\n",
      "  out[1] = ( -b + sp.sqrt(b**2 - 4*a*c) ) / (2*a)\n",
      "C:\\Users\\mikol\\AppData\\Local\\Temp/ipykernel_12120/441505114.py:9: ComplexWarning: Casting complex values to real discards the imaginary part\n",
      "  out[0] = ( -b - sp.sqrt(b**2 - 4*a*c) ) / (2*a)\n",
      "C:\\Users\\mikol\\AppData\\Local\\Temp/ipykernel_12120/441505114.py:10: ComplexWarning: Casting complex values to real discards the imaginary part\n",
      "  out[1] = ( -b + sp.sqrt(b**2 - 4*a*c) ) / (2*a)\n"
     ]
    },
    {
     "data": {
      "image/png": "[encoded data removed]",
      "text/plain": [
       "<Figure size 432x288 with 2 Axes>"
      ]
     },
     "metadata": {
      "needs_background": "light"
     },
     "output_type": "display_data"
    }
   ],
   "source": [
    "a = 1\n",
    "b = range(-5,6)\n",
    "c = range(-2,11)\n",
    "\n",
    "M = np.zeros((len(b),len(c)))\n",
    "\n",
    "for i in range(0,len(b)):\n",
    "    for j in range(0,len(c)):\n",
    "        M[i,j] = quadeq(a,b[i],c[j])[0]\n",
    "\n",
    "        \n",
    "# NOTE: In the video the y-axis label is incorrect, because the image has a flipped orientation. \n",
    "# adding origin='lower' into imshow will correct the problem. Sorry for the confusion!\n",
    "plt.imshow(M,extent=[ c[0],c[-1],b[0],b[-1] ],origin='lower')\n",
    "plt.xlabel('c')\n",
    "plt.ylabel('b')\n",
    "plt.title('a='+str(a))\n",
    "plt.colorbar()\n",
    "plt.show()\n"
   ]
  },
  {
   "cell_type": "markdown",
   "metadata": {},
   "source": [
    "# VIDEO: Complex numbers: addition and subtraction"
   ]
  },
  {
   "cell_type": "code",
   "execution_count": 22,
   "metadata": {},
   "outputs": [
    {
     "name": "stdout",
     "output_type": "stream",
     "text": [
      "1j\n",
      "nan\n",
      "1j\n",
      "(6.123233995736766e-17+1j)\n",
      "I\n"
     ]
    },
    {
     "name": "stderr",
     "output_type": "stream",
     "text": [
      "C:\\Users\\mikol\\AppData\\Local\\Temp/ipykernel_12120/3441850118.py:4: RuntimeWarning: invalid value encountered in sqrt\n",
      "  print( np.sqrt(-1) ) # doesn't work!\n"
     ]
    }
   ],
   "source": [
    "# some correct and incorrect ways to get the imaginary operator\n",
    "\n",
    "print( 1j )\n",
    "print( np.sqrt(-1) ) # doesn't work!\n",
    "print( np.sqrt(-1,dtype='complex') )\n",
    "print( (-1)**(1/2) ) # OK but not a good solution\n",
    "print(sym.I) # in sympy"
   ]
  },
  {
   "cell_type": "code",
   "execution_count": 23,
   "metadata": {},
   "outputs": [
    {
     "name": "stderr",
     "output_type": "stream",
     "text": [
      "C:\\Users\\mikol\\AppData\\Local\\Temp/ipykernel_12120/4105820661.py:6: DeprecationWarning: `np.complex` is a deprecated alias for the builtin `complex`. To silence this warning, use `complex` by itself. Doing this will not modify any behavior and is safe. If you specifically wanted the numpy scalar type, use `np.complex128` here.\n",
      "Deprecated in NumPy 1.20; for more details and guidance: https://numpy.org/devdocs/release/1.20.0-notes.html#deprecations\n",
      "  cn1 = np.complex(real_part,imag_part)\n"
     ]
    }
   ],
   "source": [
    "# create complex numbers\n",
    "\n",
    "real_part = 4\n",
    "imag_part = -6\n",
    "\n",
    "cn1 = np.complex(real_part,imag_part)\n",
    "cn2 = real_part + 1j*imag_part"
   ]
  },
  {
   "cell_type": "code",
   "execution_count": 24,
   "metadata": {},
   "outputs": [
    {
     "name": "stdout",
     "output_type": "stream",
     "text": [
      "(4-6j)\n",
      "(4-6j)\n",
      "<class 'complex'>\n"
     ]
    }
   ],
   "source": [
    "# display\n",
    "print(cn1)\n",
    "print(cn2)\n",
    "\n",
    "print( type(cn2) )"
   ]
  },
  {
   "cell_type": "code",
   "execution_count": 25,
   "metadata": {},
   "outputs": [
    {
     "name": "stdout",
     "output_type": "stream",
     "text": [
      "(10+3j)\n",
      "(-2+7j)\n"
     ]
    },
    {
     "name": "stderr",
     "output_type": "stream",
     "text": [
      "C:\\Users\\mikol\\AppData\\Local\\Temp/ipykernel_12120/1522519924.py:2: DeprecationWarning: `np.complex` is a deprecated alias for the builtin `complex`. To silence this warning, use `complex` by itself. Doing this will not modify any behavior and is safe. If you specifically wanted the numpy scalar type, use `np.complex128` here.\n",
      "Deprecated in NumPy 1.20; for more details and guidance: https://numpy.org/devdocs/release/1.20.0-notes.html#deprecations\n",
      "  z1 = np.complex(4,5)\n",
      "C:\\Users\\mikol\\AppData\\Local\\Temp/ipykernel_12120/1522519924.py:3: DeprecationWarning: `np.complex` is a deprecated alias for the builtin `complex`. To silence this warning, use `complex` by itself. Doing this will not modify any behavior and is safe. If you specifically wanted the numpy scalar type, use `np.complex128` here.\n",
      "Deprecated in NumPy 1.20; for more details and guidance: https://numpy.org/devdocs/release/1.20.0-notes.html#deprecations\n",
      "  z2 = np.complex(6,-2)\n"
     ]
    }
   ],
   "source": [
    "# now for adding and subtracting\n",
    "z1 = np.complex(4,5)\n",
    "z2 = np.complex(6,-2)\n",
    "\n",
    "print(z1+z2)\n",
    "print(z1-z2)\n"
   ]
  },
  {
   "cell_type": "code",
   "execution_count": 26,
   "metadata": {},
   "outputs": [
    {
     "name": "stdout",
     "output_type": "stream",
     "text": [
      "The real part of z is 4.0\n",
      "The imaginary part of z is 5.0\n"
     ]
    }
   ],
   "source": [
    "# extracting the real and imaginary parts of a complex number\n",
    "print( 'The real part of z is ' + str(np.real(z1)))\n",
    "print( 'The imaginary part of z is ' + str(np.imag(z1)))"
   ]
  },
  {
   "cell_type": "markdown",
   "metadata": {},
   "source": [
    "### Exercise"
   ]
  },
  {
   "cell_type": "code",
   "execution_count": 27,
   "metadata": {},
   "outputs": [
    {
     "name": "stdout",
     "output_type": "stream",
     "text": [
      "(7+10j)\n",
      "(7+10j)\n"
     ]
    },
    {
     "name": "stderr",
     "output_type": "stream",
     "text": [
      "C:\\Users\\mikol\\AppData\\Local\\Temp/ipykernel_12120/2940266087.py:3: DeprecationWarning: `np.complex` is a deprecated alias for the builtin `complex`. To silence this warning, use `complex` by itself. Doing this will not modify any behavior and is safe. If you specifically wanted the numpy scalar type, use `np.complex128` here.\n",
      "Deprecated in NumPy 1.20; for more details and guidance: https://numpy.org/devdocs/release/1.20.0-notes.html#deprecations\n",
      "  w = np.complex(2,4)\n",
      "C:\\Users\\mikol\\AppData\\Local\\Temp/ipykernel_12120/2940266087.py:4: DeprecationWarning: `np.complex` is a deprecated alias for the builtin `complex`. To silence this warning, use `complex` by itself. Doing this will not modify any behavior and is safe. If you specifically wanted the numpy scalar type, use `np.complex128` here.\n",
      "Deprecated in NumPy 1.20; for more details and guidance: https://numpy.org/devdocs/release/1.20.0-notes.html#deprecations\n",
      "  z = np.complex(5,6)\n",
      "C:\\Users\\mikol\\AppData\\Local\\Temp/ipykernel_12120/2940266087.py:10: DeprecationWarning: `np.complex` is a deprecated alias for the builtin `complex`. To silence this warning, use `complex` by itself. Doing this will not modify any behavior and is safe. If you specifically wanted the numpy scalar type, use `np.complex128` here.\n",
      "Deprecated in NumPy 1.20; for more details and guidance: https://numpy.org/devdocs/release/1.20.0-notes.html#deprecations\n",
      "  wPlusz1 = np.complex(realsum,imagsum)\n"
     ]
    }
   ],
   "source": [
    "# show that the complex addition is real parts summed and imaginary parts summed\n",
    "\n",
    "w = np.complex(2,4)\n",
    "z = np.complex(5,6)\n",
    "\n",
    "# sum each part individually\n",
    "realsum = np.real(w) + np.real(z)\n",
    "imagsum = np.imag(w) + np.imag(z)\n",
    "\n",
    "wPlusz1 = np.complex(realsum,imagsum)\n",
    "\n",
    "# sum together in one go\n",
    "wPlusz2 = w+z\n",
    "\n",
    "print(wPlusz1)\n",
    "print(wPlusz2)\n"
   ]
  },
  {
   "cell_type": "markdown",
   "metadata": {},
   "source": [
    "# VIDEO: Complex numbers: conjugate and multiplication"
   ]
  },
  {
   "cell_type": "code",
   "execution_count": 28,
   "metadata": {},
   "outputs": [
    {
     "name": "stdout",
     "output_type": "stream",
     "text": [
      "(34+22j)\n"
     ]
    },
    {
     "name": "stderr",
     "output_type": "stream",
     "text": [
      "C:\\Users\\mikol\\AppData\\Local\\Temp/ipykernel_12120/2281030378.py:2: DeprecationWarning: `np.complex` is a deprecated alias for the builtin `complex`. To silence this warning, use `complex` by itself. Doing this will not modify any behavior and is safe. If you specifically wanted the numpy scalar type, use `np.complex128` here.\n",
      "Deprecated in NumPy 1.20; for more details and guidance: https://numpy.org/devdocs/release/1.20.0-notes.html#deprecations\n",
      "  z1 = np.complex(4,5)\n",
      "C:\\Users\\mikol\\AppData\\Local\\Temp/ipykernel_12120/2281030378.py:3: DeprecationWarning: `np.complex` is a deprecated alias for the builtin `complex`. To silence this warning, use `complex` by itself. Doing this will not modify any behavior and is safe. If you specifically wanted the numpy scalar type, use `np.complex128` here.\n",
      "Deprecated in NumPy 1.20; for more details and guidance: https://numpy.org/devdocs/release/1.20.0-notes.html#deprecations\n",
      "  z2 = np.complex(6,-2)\n"
     ]
    },
    {
     "data": {
      "text/latex": [
       "$\\displaystyle 34.0 + 22.0 i$"
      ],
      "text/plain": [
       "34.0 + 22.0*I"
      ]
     },
     "execution_count": 28,
     "metadata": {},
     "output_type": "execute_result"
    }
   ],
   "source": [
    "# create complex numbers\n",
    "z1 = np.complex(4,5)\n",
    "z2 = np.complex(6,-2)\n",
    "\n",
    "# multiplication the \"manual\" way\n",
    "w = np.real(z1)*np.real(z2) + np.real(z1)*np.imag(z2)*1j + np.imag(z1)*np.real(z2)*1j + np.imag(z1)*np.imag(z2)*1j*1j\n",
    "\n",
    "print(w)\n",
    "sym.sympify(w)\n"
   ]
  },
  {
   "cell_type": "code",
   "execution_count": 29,
   "metadata": {},
   "outputs": [
    {
     "data": {
      "text/latex": [
       "$\\displaystyle 34.0 + 22.0 i$"
      ],
      "text/plain": [
       "34.0 + 22.0*I"
      ]
     },
     "execution_count": 29,
     "metadata": {},
     "output_type": "execute_result"
    }
   ],
   "source": [
    "# or let Python do the hard work ;)\n",
    "sym.sympify(z1*z2)"
   ]
  },
  {
   "cell_type": "code",
   "execution_count": 30,
   "metadata": {},
   "outputs": [
    {
     "name": "stdout",
     "output_type": "stream",
     "text": [
      "(4-3j)\n",
      "(4+3j)\n"
     ]
    },
    {
     "name": "stderr",
     "output_type": "stream",
     "text": [
      "C:\\Users\\mikol\\AppData\\Local\\Temp/ipykernel_12120/133778305.py:3: DeprecationWarning: `np.complex` is a deprecated alias for the builtin `complex`. To silence this warning, use `complex` by itself. Doing this will not modify any behavior and is safe. If you specifically wanted the numpy scalar type, use `np.complex128` here.\n",
      "Deprecated in NumPy 1.20; for more details and guidance: https://numpy.org/devdocs/release/1.20.0-notes.html#deprecations\n",
      "  z1 = np.complex(4,3)\n",
      "C:\\Users\\mikol\\AppData\\Local\\Temp/ipykernel_12120/133778305.py:4: DeprecationWarning: `np.complex` is a deprecated alias for the builtin `complex`. To silence this warning, use `complex` by itself. Doing this will not modify any behavior and is safe. If you specifically wanted the numpy scalar type, use `np.complex128` here.\n",
      "Deprecated in NumPy 1.20; for more details and guidance: https://numpy.org/devdocs/release/1.20.0-notes.html#deprecations\n",
      "  z2 = np.complex(4,-3)\n"
     ]
    }
   ],
   "source": [
    "# complex conjugate\n",
    "\n",
    "z1 = np.complex(4,3)\n",
    "z2 = np.complex(4,-3)\n",
    "\n",
    "print( np.conj(z1) )\n",
    "print( np.conj(z2) )\n"
   ]
  },
  {
   "cell_type": "markdown",
   "metadata": {},
   "source": [
    "### Exercise"
   ]
  },
  {
   "cell_type": "code",
   "execution_count": 31,
   "metadata": {},
   "outputs": [
    {
     "data": {
      "text/latex": [
       "$\\displaystyle a \\overline{a} - i a \\overline{b} + i b \\overline{a} + b \\overline{b}$"
      ],
      "text/plain": [
       "a*conjugate(a) - I*a*conjugate(b) + I*b*conjugate(a) + b*conjugate(b)"
      ]
     },
     "execution_count": 31,
     "metadata": {},
     "output_type": "execute_result"
    }
   ],
   "source": [
    "a,b = sym.symbols('a,b')#,real=True)\n",
    "\n",
    "z = a + b*sym.I\n",
    "\n",
    "sym.simplify( sym.expand( z*sym.conjugate(z) ) )"
   ]
  },
  {
   "cell_type": "code",
   "execution_count": 32,
   "metadata": {},
   "outputs": [
    {
     "data": {
      "text/latex": [
       "$\\displaystyle z\\times z^* = a \\overline{a} - i a \\overline{b} + i b \\overline{a} + b \\overline{b}$"
      ],
      "text/plain": [
       "<IPython.core.display.Math object>"
      ]
     },
     "metadata": {},
     "output_type": "display_data"
    }
   ],
   "source": [
    "# with nicer printing\n",
    "\n",
    "result = sym.simplify( sym.expand( z*sym.conjugate(z) ) )\n",
    "display(Math('z\\\\times z^* = %s' %sym.latex(result)))"
   ]
  },
  {
   "cell_type": "markdown",
   "metadata": {},
   "source": [
    "# VIDEO: Complex numbers: division"
   ]
  },
  {
   "cell_type": "code",
   "execution_count": 33,
   "metadata": {},
   "outputs": [
    {
     "name": "stderr",
     "output_type": "stream",
     "text": [
      "C:\\Users\\mikol\\AppData\\Local\\Temp/ipykernel_12120/932439214.py:2: DeprecationWarning: `np.complex` is a deprecated alias for the builtin `complex`. To silence this warning, use `complex` by itself. Doing this will not modify any behavior and is safe. If you specifically wanted the numpy scalar type, use `np.complex128` here.\n",
      "Deprecated in NumPy 1.20; for more details and guidance: https://numpy.org/devdocs/release/1.20.0-notes.html#deprecations\n",
      "  z1 = np.complex(4,2)\n",
      "C:\\Users\\mikol\\AppData\\Local\\Temp/ipykernel_12120/932439214.py:3: DeprecationWarning: `np.complex` is a deprecated alias for the builtin `complex`. To silence this warning, use `complex` by itself. Doing this will not modify any behavior and is safe. If you specifically wanted the numpy scalar type, use `np.complex128` here.\n",
      "Deprecated in NumPy 1.20; for more details and guidance: https://numpy.org/devdocs/release/1.20.0-notes.html#deprecations\n",
      "  z2 = np.complex(3,-5)\n"
     ]
    },
    {
     "data": {
      "text/latex": [
       "$\\displaystyle \\frac{(4+2j)}{2} = (2+1j)$"
      ],
      "text/plain": [
       "<IPython.core.display.Math object>"
      ]
     },
     "metadata": {},
     "output_type": "display_data"
    }
   ],
   "source": [
    "# create a complex number\n",
    "z1 = np.complex(4,2)\n",
    "z2 = np.complex(3,-5)\n",
    "\n",
    "display(Math('\\\\frac{%s}{2} = %s' %(z1,z1/2) ))\n"
   ]
  },
  {
   "cell_type": "code",
   "execution_count": 34,
   "metadata": {},
   "outputs": [
    {
     "data": {
      "text/latex": [
       "$\\displaystyle \\frac{(4+2j) \\times (3+5j)}{(3-5j) \\times (3+5j)} = \\frac{(2+26j)}{(34+0j)} = 0.0588235294117647 + 0.764705882352941 i$"
      ],
      "text/plain": [
       "<IPython.core.display.Math object>"
      ]
     },
     "metadata": {},
     "output_type": "display_data"
    }
   ],
   "source": [
    "display(Math('\\\\frac{%s \\\\times %s}{%s \\\\times %s} = \\\\frac{%s}{%s} = %s' # sometimes you need \\\n",
    "             %(z1,np.conj(z2), z2, np.conj(z2),\n",
    "               z1*np.conj(z2), z2*np.conj(z2), sym.latex(sym.sympify(z1/z2)) )))"
   ]
  },
  {
   "cell_type": "markdown",
   "metadata": {},
   "source": [
    "### Exercises"
   ]
  },
  {
   "cell_type": "code",
   "execution_count": 35,
   "metadata": {},
   "outputs": [
    {
     "name": "stdout",
     "output_type": "stream",
     "text": [
      "(1+0j)\n"
     ]
    },
    {
     "name": "stderr",
     "output_type": "stream",
     "text": [
      "C:\\Users\\mikol\\AppData\\Local\\Temp/ipykernel_12120/679638582.py:2: DeprecationWarning: `np.complex` is a deprecated alias for the builtin `complex`. To silence this warning, use `complex` by itself. Doing this will not modify any behavior and is safe. If you specifically wanted the numpy scalar type, use `np.complex128` here.\n",
      "Deprecated in NumPy 1.20; for more details and guidance: https://numpy.org/devdocs/release/1.20.0-notes.html#deprecations\n",
      "  z = np.complex(4,2)\n",
      "C:\\Users\\mikol\\AppData\\Local\\Temp/ipykernel_12120/679638582.py:3: DeprecationWarning: `np.complex` is a deprecated alias for the builtin `complex`. To silence this warning, use `complex` by itself. Doing this will not modify any behavior and is safe. If you specifically wanted the numpy scalar type, use `np.complex128` here.\n",
      "Deprecated in NumPy 1.20; for more details and guidance: https://numpy.org/devdocs/release/1.20.0-notes.html#deprecations\n",
      "  w = np.complex(3,5)\n"
     ]
    }
   ],
   "source": [
    "# create two numbers\n",
    "z = np.complex(4,2)\n",
    "w = np.complex(3,5)\n",
    "\n",
    "# the parts related to the left multiplicand\n",
    "left_numer = (z-1) * (z*w+w)\n",
    "left_denom = w*z-w\n",
    "left_part = left_numer / left_denom\n",
    "\n",
    "# the parts related to the right multiplicand\n",
    "right_numer = (w-1) * (1-w)\n",
    "right_denom = -w**2*z - w**2 + 2*w*z + 2*w - z - 1\n",
    "right_part = right_numer / right_denom\n",
    "\n",
    "# put them together\n",
    "solution = left_part * right_part\n",
    "\n",
    "# and print!\n",
    "print(solution)\n"
   ]
  },
  {
   "cell_type": "markdown",
   "metadata": {},
   "source": [
    "# VIDEO: Graphing complex numbers"
   ]
  },
  {
   "cell_type": "code",
   "execution_count": 36,
   "metadata": {},
   "outputs": [
    {
     "name": "stderr",
     "output_type": "stream",
     "text": [
      "C:\\Users\\mikol\\AppData\\Local\\Temp/ipykernel_12120/2122839494.py:2: DeprecationWarning: `np.complex` is a deprecated alias for the builtin `complex`. To silence this warning, use `complex` by itself. Doing this will not modify any behavior and is safe. If you specifically wanted the numpy scalar type, use `np.complex128` here.\n",
      "Deprecated in NumPy 1.20; for more details and guidance: https://numpy.org/devdocs/release/1.20.0-notes.html#deprecations\n",
      "  z = np.complex(2,3)\n",
      "C:\\Users\\mikol\\AppData\\Local\\Programs\\Python\\Python310\\lib\\site-packages\\matplotlib\\cbook\\__init__.py:1298: ComplexWarning: Casting complex values to real discards the imaginary part\n",
      "  return np.asarray(x, float)\n"
     ]
    },
    {
     "data": {
      "image/png": "[encoded data removed]",
      "text/plain": [
       "<Figure size 432x288 with 1 Axes>"
      ]
     },
     "metadata": {
      "needs_background": "light"
     },
     "output_type": "display_data"
    },
    {
     "data": {
      "image/png": "[encoded data removed]",
      "text/plain": [
       "<Figure size 432x288 with 1 Axes>"
      ]
     },
     "metadata": {
      "needs_background": "light"
     },
     "output_type": "display_data"
    }
   ],
   "source": [
    "# create a complex number\n",
    "z = np.complex(2,3)\n",
    "\n",
    "# not so simple...\n",
    "plt.plot(z,'ro')\n",
    "plt.show()\n",
    "\n",
    "# how it's done\n",
    "plt.plot(np.real(z),np.imag(z),'ro')\n",
    "plt.xlabel('Real')\n",
    "plt.ylabel('Imag')\n",
    "plt.grid()\n",
    "plt.axis([-4,4,-4,4])\n",
    "plt.show()\n",
    "\n"
   ]
  },
  {
   "cell_type": "code",
   "execution_count": 37,
   "metadata": {},
   "outputs": [
    {
     "name": "stderr",
     "output_type": "stream",
     "text": [
      "C:\\Users\\mikol\\AppData\\Local\\Temp/ipykernel_12120/2732024600.py:4: DeprecationWarning: `np.complex` is a deprecated alias for the builtin `complex`. To silence this warning, use `complex` by itself. Doing this will not modify any behavior and is safe. If you specifically wanted the numpy scalar type, use `np.complex128` here.\n",
      "Deprecated in NumPy 1.20; for more details and guidance: https://numpy.org/devdocs/release/1.20.0-notes.html#deprecations\n",
      "  z1 = np.complex(4,5)\n",
      "C:\\Users\\mikol\\AppData\\Local\\Temp/ipykernel_12120/2732024600.py:5: DeprecationWarning: `np.complex` is a deprecated alias for the builtin `complex`. To silence this warning, use `complex` by itself. Doing this will not modify any behavior and is safe. If you specifically wanted the numpy scalar type, use `np.complex128` here.\n",
      "Deprecated in NumPy 1.20; for more details and guidance: https://numpy.org/devdocs/release/1.20.0-notes.html#deprecations\n",
      "  z2 = np.complex(6,-2)\n"
     ]
    },
    {
     "data": {
      "image/png": "[encoded data removed]",
      "text/plain": [
       "<Figure size 432x288 with 1 Axes>"
      ]
     },
     "metadata": {
      "needs_background": "light"
     },
     "output_type": "display_data"
    }
   ],
   "source": [
    "# drawing complex numbers as lines from the origin\n",
    "\n",
    "# create complex numbers\n",
    "z1 = np.complex(4,5)\n",
    "z2 = np.complex(6,-2)\n",
    "\n",
    "# draw the lines\n",
    "plt.plot([0,np.real(z1)],[0,np.imag(z1)],color='b',label='z1')\n",
    "plt.plot([0,np.real(z2)],[0,np.imag(z2)],'b--',label='z2')\n",
    "\n",
    "# new variables for convenience\n",
    "z1Pz2 = z1+z2\n",
    "z1Mz2 = z1-z2\n",
    "\n",
    "# draw more lines!\n",
    "plt.plot([0,np.real(z1Pz2)],[0,np.imag(z1Pz2)],'r',label='z1+z2',linewidth=2)\n",
    "plt.plot([0,np.real(z1Mz2)],[0,np.imag(z1Mz2)],'k',label='z1-z2',linewidth=2)\n",
    "\n",
    "\n",
    "# make the plot look a bit nicer\n",
    "plt.axis('square')\n",
    "plt.axis(np.multiply([-1,1,-1,1],np.abs(z1Pz2)))\n",
    "plt.grid(True)\n",
    "plt.legend()\n",
    "plt.show()"
   ]
  },
  {
   "cell_type": "markdown",
   "metadata": {},
   "source": [
    "### Exercises"
   ]
  },
  {
   "cell_type": "code",
   "execution_count": 38,
   "metadata": {},
   "outputs": [
    {
     "name": "stderr",
     "output_type": "stream",
     "text": [
      "C:\\Users\\mikol\\AppData\\Local\\Temp/ipykernel_12120/3520047252.py:2: DeprecationWarning: `np.complex` is a deprecated alias for the builtin `complex`. To silence this warning, use `complex` by itself. Doing this will not modify any behavior and is safe. If you specifically wanted the numpy scalar type, use `np.complex128` here.\n",
      "Deprecated in NumPy 1.20; for more details and guidance: https://numpy.org/devdocs/release/1.20.0-notes.html#deprecations\n",
      "  z1 = np.complex(-3,1)\n",
      "C:\\Users\\mikol\\AppData\\Local\\Temp/ipykernel_12120/3520047252.py:3: DeprecationWarning: `np.complex` is a deprecated alias for the builtin `complex`. To silence this warning, use `complex` by itself. Doing this will not modify any behavior and is safe. If you specifically wanted the numpy scalar type, use `np.complex128` here.\n",
      "Deprecated in NumPy 1.20; for more details and guidance: https://numpy.org/devdocs/release/1.20.0-notes.html#deprecations\n",
      "  z2 = np.complex(-1,1)\n"
     ]
    },
    {
     "data": {
      "image/png": "[encoded data removed]",
      "text/plain": [
       "<Figure size 432x288 with 1 Axes>"
      ]
     },
     "metadata": {
      "needs_background": "light"
     },
     "output_type": "display_data"
    }
   ],
   "source": [
    "# adding two complex numbers\n",
    "z1 = np.complex(-3,1)\n",
    "z2 = np.complex(-1,1)\n",
    "\n",
    "# their sum\n",
    "z3 = z1+z2\n",
    "\n",
    "plt.plot([0,np.real(z1)],[0,np.imag(z1)],label='z1')\n",
    "plt.plot([0,np.real(z2)],[0,np.imag(z2)],label='z2')\n",
    "plt.plot([0,np.real(z3)],[0,np.imag(z3)],label='z1+z2')\n",
    "\n",
    "plt.axis('square')\n",
    "plt.axis([-5,5,-5,5])\n",
    "plt.legend()\n",
    "plt.grid()\n",
    "plt.xlabel('Real')\n",
    "plt.ylabel('Imag')\n",
    "\n",
    "plt.show()"
   ]
  },
  {
   "cell_type": "code",
   "execution_count": 39,
   "metadata": {},
   "outputs": [
    {
     "data": {
      "image/png": "[encoded data removed]",
      "text/plain": [
       "<Figure size 432x288 with 1 Axes>"
      ]
     },
     "metadata": {
      "needs_background": "light"
     },
     "output_type": "display_data"
    }
   ],
   "source": [
    "# multiplying two complex numbers\n",
    "\n",
    "# their product\n",
    "z3 = z1*z2\n",
    "\n",
    "plt.plot([0,np.real(z1)],[0,np.imag(z1)],label='z1')\n",
    "plt.plot([0,np.real(z2)],[0,np.imag(z2)],label='z2')\n",
    "plt.plot([0,np.real(z3)],[0,np.imag(z3)],label='$z1\\\\times z2$')\n",
    "\n",
    "plt.axis('square')\n",
    "plt.axis([-5,5,-5,5])\n",
    "plt.legend()\n",
    "plt.grid()\n",
    "plt.xlabel('Real')\n",
    "plt.ylabel('Imag')\n",
    "\n",
    "plt.show()"
   ]
  },
  {
   "cell_type": "markdown",
   "metadata": {},
   "source": [
    "# VIDEO: Revising the quadratic equation with complex numbers"
   ]
  },
  {
   "cell_type": "code",
   "execution_count": 40,
   "metadata": {},
   "outputs": [],
   "source": [
    "# as a function!\n",
    "\n",
    "def quadeq(a,b,c):\n",
    "    \n",
    "    # initialize\n",
    "    out = sp.zeros(2,dtype=complex)\n",
    "    \n",
    "    # compute\n",
    "    out[0] = ( -b - sp.sqrt(b**2 - 4*a*c) ) / (2*a)\n",
    "    out[1] = ( -b + sp.sqrt(b**2 - 4*a*c) ) / (2*a)\n",
    "    \n",
    "    # output\n",
    "    return out"
   ]
  },
  {
   "cell_type": "code",
   "execution_count": 41,
   "metadata": {},
   "outputs": [
    {
     "name": "stderr",
     "output_type": "stream",
     "text": [
      "C:\\Users\\mikol\\AppData\\Local\\Temp/ipykernel_12120/3328143086.py:6: DeprecationWarning: scipy.zeros is deprecated and will be removed in SciPy 2.0.0, use numpy.zeros instead\n",
      "  out = sp.zeros(2,dtype=complex)\n",
      "C:\\Users\\mikol\\AppData\\Local\\Temp/ipykernel_12120/3328143086.py:9: DeprecationWarning: scipy.sqrt is deprecated and will be removed in SciPy 2.0.0, use numpy.lib.scimath.sqrt instead\n",
      "  out[0] = ( -b - sp.sqrt(b**2 - 4*a*c) ) / (2*a)\n",
      "C:\\Users\\mikol\\AppData\\Local\\Temp/ipykernel_12120/3328143086.py:10: DeprecationWarning: scipy.sqrt is deprecated and will be removed in SciPy 2.0.0, use numpy.lib.scimath.sqrt instead\n",
      "  out[1] = ( -b + sp.sqrt(b**2 - 4*a*c) ) / (2*a)\n",
      "C:\\Users\\mikol\\AppData\\Local\\Temp/ipykernel_12120/3800184046.py:13: DeprecationWarning: scipy.real is deprecated and will be removed in SciPy 2.0.0, use numpy.real instead\n",
      "  plt.imshow(sp.real(M))\n",
      "C:\\Users\\mikol\\AppData\\Local\\Temp/ipykernel_12120/3800184046.py:17: DeprecationWarning: scipy.imag is deprecated and will be removed in SciPy 2.0.0, use numpy.imag instead\n",
      "  plt.imshow(sp.imag(M))\n",
      "C:\\Users\\mikol\\AppData\\Local\\Temp/ipykernel_12120/3800184046.py:21: DeprecationWarning: scipy.absolute is deprecated and will be removed in SciPy 2.0.0, use numpy.absolute instead\n",
      "  plt.imshow(sp.absolute(M))\n"
     ]
    },
    {
     "data": {
      "image/png": "[encoded data removed]",
      "text/plain": [
       "<Figure size 432x288 with 3 Axes>"
      ]
     },
     "metadata": {
      "needs_background": "light"
     },
     "output_type": "display_data"
    }
   ],
   "source": [
    "x = 1\n",
    "y = range(-5,6)\n",
    "z = range(-2,11)\n",
    "\n",
    "M = np.zeros((len(y),len(z)),dtype=complex)\n",
    "\n",
    "for i in range(0,len(y)):\n",
    "    for j in range(0,len(z)):\n",
    "        M[i,j] = quadeq(1,y[i],z[j])[0]\n",
    "\n",
    "\n",
    "plt.subplot(1,3,1)\n",
    "plt.imshow(sp.real(M))\n",
    "plt.axis('off'), plt.title('real part')\n",
    "\n",
    "plt.subplot(132)\n",
    "plt.imshow(sp.imag(M))\n",
    "plt.axis('off'), plt.title('imaginary part')\n",
    "\n",
    "plt.subplot(133)\n",
    "plt.imshow(sp.absolute(M))\n",
    "plt.axis('off'), plt.title('magnitude')\n",
    "\n",
    "plt.show()"
   ]
  },
  {
   "cell_type": "markdown",
   "metadata": {},
   "source": [
    "# VIDEO: The unit circle"
   ]
  },
  {
   "cell_type": "code",
   "execution_count": 42,
   "metadata": {},
   "outputs": [
    {
     "data": {
      "image/png": "[encoded data removed]",
      "text/plain": [
       "<Figure size 432x288 with 1 Axes>"
      ]
     },
     "metadata": {
      "needs_background": "light"
     },
     "output_type": "display_data"
    }
   ],
   "source": [
    "# create a unit circle via trigonometry\n",
    "\n",
    "# define the phase angles\n",
    "x = np.linspace(0,2*np.pi,100)\n",
    "\n",
    "# generate the plot\n",
    "plt.plot(np.cos(x),np.sin(x),'k')\n",
    "\n",
    "# draw axis lines\n",
    "plt.plot([-1.3,1.3],[0,0],'--',color=[.8,.8,.8])\n",
    "plt.plot([0,0],[-1.3,1.3],'--',color=[.8,.8,.8])\n",
    "\n",
    "# make it look nicer\n",
    "plt.axis('square')\n",
    "plt.axis([-1.3,1.3,-1.3,1.3])\n",
    "plt.xlabel('cosine(x)')\n",
    "plt.ylabel('sine(x)')\n",
    "plt.plot()\n",
    "\n",
    "plt.show()"
   ]
  },
  {
   "cell_type": "code",
   "execution_count": 43,
   "metadata": {},
   "outputs": [
    {
     "data": {
      "image/png": "[encoded data removed]",
      "text/plain": [
       "<Figure size 432x288 with 1 Axes>"
      ]
     },
     "metadata": {
      "needs_background": "light"
     },
     "output_type": "display_data"
    }
   ],
   "source": [
    "# draw the circle again\n",
    "plt.plot(np.cos(x),np.sin(x),'k')\n",
    "\n",
    "# now draw a vector\n",
    "angle = np.pi/4\n",
    "plt.plot([0,np.cos(angle)],[0,np.sin(angle)],'r',linewidth=3)\n",
    "\n",
    "# make it look nicer\n",
    "plt.axis('square')\n",
    "plt.xlabel('cosine(x)')\n",
    "plt.ylabel('sine(x)')\n",
    "plt.axis([-1.3,1.3,-1.3,1.3])\n",
    "\n",
    "plt.show()"
   ]
  },
  {
   "cell_type": "markdown",
   "metadata": {},
   "source": [
    "### Exercises"
   ]
  },
  {
   "cell_type": "code",
   "execution_count": 44,
   "metadata": {},
   "outputs": [
    {
     "data": {
      "image/png": "[encoded data removed]",
      "text/plain": [
       "<Figure size 432x288 with 1 Axes>"
      ]
     },
     "metadata": {
      "needs_background": "light"
     },
     "output_type": "display_data"
    }
   ],
   "source": [
    "# something with log-space increases in angle\n",
    "x = np.linspace(-3,1.83,50)\n",
    "a = np.exp(x)\n",
    "\n",
    "for i in a:\n",
    "    plt.plot([0,np.cos(i)],[0,np.sin(i)])\n",
    "\n",
    "    \n",
    "# make it look nicer\n",
    "plt.axis('square')\n",
    "plt.axis('off')\n",
    "\n",
    "plt.show()"
   ]
  },
  {
   "cell_type": "markdown",
   "metadata": {},
   "source": [
    "# VIDEO: Natural exponent and logarithm"
   ]
  },
  {
   "cell_type": "code",
   "execution_count": 45,
   "metadata": {},
   "outputs": [
    {
     "data": {
      "image/png": "[encoded data removed]",
      "text/plain": [
       "<Figure size 432x288 with 1 Axes>"
      ]
     },
     "metadata": {
      "needs_background": "light"
     },
     "output_type": "display_data"
    }
   ],
   "source": [
    "# e^x\n",
    "\n",
    "x = np.linspace(-3,3,100)\n",
    "\n",
    "plt.plot(x,np.exp(x))\n",
    "plt.xlabel('x')\n",
    "plt.ylabel('$e^x$')\n",
    "plt.show()\n"
   ]
  },
  {
   "cell_type": "code",
   "execution_count": 46,
   "metadata": {},
   "outputs": [
    {
     "name": "stderr",
     "output_type": "stream",
     "text": [
      "C:\\Users\\mikol\\AppData\\Local\\Temp/ipykernel_12120/1712747373.py:1: RuntimeWarning: invalid value encountered in log\n",
      "  plt.plot(x,np.log(x))\n"
     ]
    },
    {
     "data": {
      "image/png": "[encoded data removed]",
      "text/plain": [
       "<Figure size 432x288 with 1 Axes>"
      ]
     },
     "metadata": {
      "needs_background": "light"
     },
     "output_type": "display_data"
    }
   ],
   "source": [
    "\n",
    "plt.plot(x,np.log(x))\n",
    "plt.xlabel('x')\n",
    "plt.ylabel('log(x)')\n",
    "plt.show()\n"
   ]
  },
  {
   "cell_type": "markdown",
   "metadata": {},
   "source": [
    "### Exercise"
   ]
  },
  {
   "cell_type": "code",
   "execution_count": 47,
   "metadata": {},
   "outputs": [
    {
     "data": {
      "image/png": "[encoded data removed]",
      "text/plain": [
       "<Figure size 432x288 with 1 Axes>"
      ]
     },
     "metadata": {
      "needs_background": "light"
     },
     "output_type": "display_data"
    }
   ],
   "source": [
    "# visualize that log and e are inverses of each other (positive values only)\n",
    "\n",
    "x = np.linspace(.0001,10,10)\n",
    "\n",
    "# plot it both ways\n",
    "plt.plot(x,np.log(np.exp(x)))\n",
    "plt.plot(x,np.exp(np.log(x)),'o')\n",
    "\n",
    "plt.axis('square')\n",
    "plt.legend({'$\\\\log(e^x)$','$e^{\\\\log(x)}$'})\n",
    "plt.show()\n"
   ]
  },
  {
   "cell_type": "markdown",
   "metadata": {},
   "source": [
    "# VIDEO: Find a specific point on a Gaussian"
   ]
  },
  {
   "cell_type": "code",
   "execution_count": 54,
   "metadata": {},
   "outputs": [
    {
     "data": {
      "image/png": "[encoded data removed]",
      "text/plain": [
       "<Figure size 432x288 with 1 Axes>"
      ]
     },
     "metadata": {
      "needs_background": "light"
     },
     "output_type": "display_data"
    }
   ],
   "source": [
    "# the key parameter (FWHM - full width at half-maximum)\n",
    "h = 1\n",
    "\n",
    "# \"Time\" variable\n",
    "t = np.linspace(-3,3,1001)\n",
    "\n",
    "# gaussian\n",
    "g = np.exp( -4*np.log(2)*t**2 / h**2 )\n",
    "\n",
    "# and plot\n",
    "plt.plot(t,g)\n",
    "plt.xlabel('t')\n",
    "plt.ylabel('y')\n",
    "plt.title('Gaussian with FWHM=' + str(h))\n",
    "plt.show()\n"
   ]
  },
  {
   "cell_type": "code",
   "execution_count": 55,
   "metadata": {},
   "outputs": [
    {
     "name": "stdout",
     "output_type": "stream",
     "text": [
      "0.5 -0.5\n"
     ]
    }
   ],
   "source": [
    "# find the x-axis value (here variable 't') for a given function value\n",
    "\n",
    "yVal2find = .5\n",
    "\n",
    "# apply the formula shown in the slides\n",
    "tvals = h*np.sqrt( np.log(yVal2find)/(-4*np.log(2)) )\n",
    "\n",
    "# print out the results\n",
    "print(tvals,-tvals)"
   ]
  },
  {
   "cell_type": "markdown",
   "metadata": {},
   "source": [
    "### Exercise"
   ]
  },
  {
   "cell_type": "code",
   "execution_count": 56,
   "metadata": {},
   "outputs": [
    {
     "data": {
      "image/png": "[encoded data removed]",
      "text/plain": [
       "<Figure size 432x288 with 1 Axes>"
      ]
     },
     "metadata": {
      "needs_background": "light"
     },
     "output_type": "display_data"
    }
   ],
   "source": [
    "N = 100 # number of Gaussians\n",
    "h = np.zeros(N)\n",
    "\n",
    "G = np.zeros((N,len(t)))\n",
    "\n",
    "for i in range(N):\n",
    "    h[i] = (i+1)/N\n",
    "    G[i,:] = np.exp( -4*np.log(2)*t**2 / h[i]**2 )\n",
    "\n",
    "plt.pcolormesh(t,h,G)\n",
    "plt.xlabel('t')\n",
    "plt.ylabel('h')\n",
    "plt.show()"
   ]
  },
  {
   "cell_type": "markdown",
   "metadata": {},
   "source": [
    "# VIDEO: Graphing the complex roots of unity"
   ]
  },
  {
   "cell_type": "code",
   "execution_count": 57,
   "metadata": {},
   "outputs": [
    {
     "data": {
      "text/latex": [
       "$\\displaystyle 1 \\Rightarrow 1$"
      ],
      "text/plain": [
       "<IPython.core.display.Math object>"
      ]
     },
     "metadata": {},
     "output_type": "display_data"
    },
    {
     "data": {
      "text/latex": [
       "$\\displaystyle e^{\\frac{2 i \\pi}{5}} \\Rightarrow 1$"
      ],
      "text/plain": [
       "<IPython.core.display.Math object>"
      ]
     },
     "metadata": {},
     "output_type": "display_data"
    },
    {
     "data": {
      "text/latex": [
       "$\\displaystyle e^{\\frac{4 i \\pi}{5}} \\Rightarrow 1$"
      ],
      "text/plain": [
       "<IPython.core.display.Math object>"
      ]
     },
     "metadata": {},
     "output_type": "display_data"
    },
    {
     "data": {
      "text/latex": [
       "$\\displaystyle e^{- \\frac{4 i \\pi}{5}} \\Rightarrow 1$"
      ],
      "text/plain": [
       "<IPython.core.display.Math object>"
      ]
     },
     "metadata": {},
     "output_type": "display_data"
    },
    {
     "data": {
      "text/latex": [
       "$\\displaystyle e^{- \\frac{2 i \\pi}{5}} \\Rightarrow 1$"
      ],
      "text/plain": [
       "<IPython.core.display.Math object>"
      ]
     },
     "metadata": {},
     "output_type": "display_data"
    }
   ],
   "source": [
    "# confirm that the roots of unity produce 1\n",
    "\n",
    "n = 5\n",
    "for k in range(0,n):\n",
    "    root = sym.exp( (2*k*sym.pi*sym.I)/n )\n",
    "    display(Math('%s \\\\Rightarrow %s' %(sym.latex(root),sym.latex(root**n)   )))\n",
    "\n",
    "\n",
    "# print(roots)\n",
    "# print(np.real(np.prod(roots)))"
   ]
  },
  {
   "cell_type": "code",
   "execution_count": 58,
   "metadata": {},
   "outputs": [
    {
     "data": {
      "image/png": "[encoded data removed]",
      "text/plain": [
       "<Figure size 432x288 with 1 Axes>"
      ]
     },
     "metadata": {
      "needs_background": "light"
     },
     "output_type": "display_data"
    }
   ],
   "source": [
    "# parameter for number of roots to show\n",
    "n = 6\n",
    "\n",
    "for k in range(0,n):\n",
    "    \n",
    "    # compute this root\n",
    "    root = np.exp( (2*k*np.pi*1j)/n )\n",
    "    \n",
    "    # plot it\n",
    "    plt.plot([0,np.real(root)],[0,np.imag(root)],linewidth=3)\n",
    "\n",
    "\n",
    "# generate the plot with the unit circle on top\n",
    "x = np.linspace(0,2*np.pi,100) # copied from previous lecture!\n",
    "plt.plot(np.cos(x),np.sin(x),color='gray')\n",
    "\n",
    "# draw axis lines\n",
    "plt.plot([-1.3,1.3],[0,0],'--',color='gray')\n",
    "plt.plot([0,0],[-1.3,1.3],'--',color='gray')\n",
    "\n",
    "\n",
    "# make the plot look nicer\n",
    "plt.axis([-1.3,1.3,-1.3,1.3])\n",
    "plt.axis('square')\n",
    "plt.axis('off')\n",
    "plt.title('The %g %gth roots of 1' %(n,n))\n",
    "plt.show()"
   ]
  },
  {
   "cell_type": "markdown",
   "metadata": {},
   "source": [
    "### Exercise"
   ]
  },
  {
   "cell_type": "code",
   "execution_count": 59,
   "metadata": {},
   "outputs": [
    {
     "data": {
      "image/png": "[encoded data removed]",
      "text/plain": [
       "<Figure size 432x288 with 1 Axes>"
      ]
     },
     "metadata": {
      "needs_background": "light"
     },
     "output_type": "display_data"
    }
   ],
   "source": [
    "# parameter for number of roots to show\n",
    "n = 200\n",
    "\n",
    "color = np.linspace(0,.9,n)\n",
    "\n",
    "for k in range(0,n):\n",
    "    \n",
    "    # compute this root\n",
    "    root = k*np.exp( (2*k*np.pi*1j)/n )\n",
    "    \n",
    "    # plot it\n",
    "    plt.plot([0,np.real(root)],[0,np.imag(root)],linewidth=2,color=[color[k],color[k],color[k]])\n",
    "\n",
    "# make the plot look nicer\n",
    "plt.axis('square')\n",
    "plt.axis('off')\n",
    "plt.show()"
   ]
  },
  {
   "cell_type": "markdown",
   "metadata": {},
   "source": [
    "# VIDEO: Log-spaced and linearly spaced numbers"
   ]
  },
  {
   "cell_type": "code",
   "execution_count": 60,
   "metadata": {},
   "outputs": [
    {
     "data": {
      "text/plain": [
       "array([-2.        , -1.33333333, -0.66666667,  0.        ,  0.66666667,\n",
       "        1.33333333,  2.        ,  2.66666667,  3.33333333,  4.        ])"
      ]
     },
     "execution_count": 60,
     "metadata": {},
     "output_type": "execute_result"
    }
   ],
   "source": [
    "# you've already seen linearly spaced numbers...\n",
    "\n",
    "np.linspace(-2,4,10)"
   ]
  },
  {
   "cell_type": "code",
   "execution_count": 61,
   "metadata": {},
   "outputs": [
    {
     "data": {
      "text/plain": [
       "array([ 10.        ,  12.91549665,  16.68100537,  21.5443469 ,\n",
       "        27.82559402,  35.93813664,  46.41588834,  59.94842503,\n",
       "        77.42636827, 100.        ])"
      ]
     },
     "execution_count": 61,
     "metadata": {},
     "output_type": "execute_result"
    }
   ],
   "source": [
    "# log-spaced\n",
    "np.logspace(1,2,10)"
   ]
  },
  {
   "cell_type": "code",
   "execution_count": 62,
   "metadata": {},
   "outputs": [
    {
     "data": {
      "text/plain": [
       "array([ 2.3       ,  2.64712604,  3.04664186,  3.50645436,  4.03566376,\n",
       "        4.64474376,  5.34574877,  6.15255251,  7.0811226 ,  8.14983655,\n",
       "        9.37984546, 10.7954927 , 12.4247956 , 14.3       ])"
      ]
     },
     "execution_count": 62,
     "metadata": {},
     "output_type": "execute_result"
    }
   ],
   "source": [
    "# the way you'd probably expect them to be\n",
    "a = np.log10(2.3)\n",
    "b = np.log10(14.3)\n",
    "n = 14\n",
    "\n",
    "np.logspace(a,b,n)"
   ]
  },
  {
   "cell_type": "code",
   "execution_count": 63,
   "metadata": {},
   "outputs": [
    {
     "data": {
      "text/plain": [
       "array([1.        , 1.49534878, 2.23606798, 3.34370152, 5.        ])"
      ]
     },
     "execution_count": 63,
     "metadata": {},
     "output_type": "execute_result"
    }
   ],
   "source": [
    "# the way you'd probably expect them to be\n",
    "a = np.log10(1)\n",
    "b = np.log10(5)\n",
    "n = 5\n",
    "\n",
    "np.logspace(a,b,n)"
   ]
  },
  {
   "cell_type": "markdown",
   "metadata": {},
   "source": [
    "### Exercise"
   ]
  },
  {
   "cell_type": "code",
   "execution_count": 64,
   "metadata": {},
   "outputs": [
    {
     "data": {
      "image/png": "[encoded data removed]",
      "text/plain": [
       "<Figure size 432x288 with 1 Axes>"
      ]
     },
     "metadata": {
      "needs_background": "light"
     },
     "output_type": "display_data"
    }
   ],
   "source": [
    "# show that at small scales, lin and log are close.\n",
    "# this is why local linear approximations to nonlinear functions are so useful\n",
    "\n",
    "a = 2\n",
    "b = 100\n",
    "n = 50\n",
    "\n",
    "lo = np.logspace(np.log10(a),np.log10(b),n)\n",
    "li = np.linspace(a,b,n)\n",
    "\n",
    "plt.plot(li,lo,label='log')\n",
    "plt.plot(li,li,label='linear')\n",
    "\n",
    "plt.legend()\n",
    "plt.axis('square')\n",
    "plt.show()\n"
   ]
  },
  {
   "cell_type": "markdown",
   "metadata": {},
   "source": [
    "# VIDEO: Logarithm properties: Multiplication and division"
   ]
  },
  {
   "cell_type": "code",
   "execution_count": 65,
   "metadata": {},
   "outputs": [
    {
     "data": {
      "text/latex": [
       "$\\displaystyle \\log(3\\times4) = 2.48491$"
      ],
      "text/plain": [
       "<IPython.core.display.Math object>"
      ]
     },
     "metadata": {},
     "output_type": "display_data"
    },
    {
     "data": {
      "text/latex": [
       "$\\displaystyle \\log(3)\\times\\log(4) = 1.523$"
      ],
      "text/plain": [
       "<IPython.core.display.Math object>"
      ]
     },
     "metadata": {},
     "output_type": "display_data"
    },
    {
     "data": {
      "text/latex": [
       "$\\displaystyle \\log(3)+\\log(4) = 2.48491$"
      ],
      "text/plain": [
       "<IPython.core.display.Math object>"
      ]
     },
     "metadata": {},
     "output_type": "display_data"
    },
    {
     "data": {
      "text/latex": [
       "$\\displaystyle \\log(3\\times4) \\neq \\log(3)\\times\\log(4)$"
      ],
      "text/plain": [
       "<IPython.core.display.Math object>"
      ]
     },
     "metadata": {},
     "output_type": "display_data"
    },
    {
     "data": {
      "text/latex": [
       "$\\displaystyle \\log(3\\times4) = \\log(3)+\\log(4)$"
      ],
      "text/plain": [
       "<IPython.core.display.Math object>"
      ]
     },
     "metadata": {},
     "output_type": "display_data"
    }
   ],
   "source": [
    "a = 3\n",
    "b = 4\n",
    "\n",
    "# test the multiplication rule\n",
    "\n",
    "res1 = np.log(a*b)\n",
    "res2 = np.log(a) * np.log(b)\n",
    "res3 = np.log(a) + np.log(b)\n",
    "\n",
    "display(Math('\\\\log(%g\\\\times%g) = %g' %(a,b,res1)))\n",
    "display(Math('\\\\log(%g)\\\\times\\\\log(%g) = %g' %(a,b,res2)))\n",
    "display(Math('\\\\log(%g)+\\\\log(%g) = %g' %(a,b,res3)))\n",
    "\n",
    "display(Math('\\\\log(%g\\\\times%g) \\\\neq \\\\log(%g)\\\\times\\\\log(%g)' %(a,b,a,b)))\n",
    "display(Math('\\\\log(%g\\\\times%g) = \\\\log(%g)+\\\\log(%g)' %(a,b,a,b)))\n"
   ]
  },
  {
   "cell_type": "code",
   "execution_count": 66,
   "metadata": {},
   "outputs": [
    {
     "data": {
      "text/latex": [
       "$\\displaystyle \\log(\\frac{3}{4}) = -0.287682$"
      ],
      "text/plain": [
       "<IPython.core.display.Math object>"
      ]
     },
     "metadata": {},
     "output_type": "display_data"
    },
    {
     "data": {
      "text/latex": [
       "$\\displaystyle \\log(3)/\\log(4) = 0.792481$"
      ],
      "text/plain": [
       "<IPython.core.display.Math object>"
      ]
     },
     "metadata": {},
     "output_type": "display_data"
    },
    {
     "data": {
      "text/latex": [
       "$\\displaystyle \\log(3)-\\log(4) = -0.287682$"
      ],
      "text/plain": [
       "<IPython.core.display.Math object>"
      ]
     },
     "metadata": {},
     "output_type": "display_data"
    },
    {
     "data": {
      "text/latex": [
       "$\\displaystyle \\log{\\left(\\frac{3}{4}\\right)} \\neq \\frac{\\log(3)}{\\log(4)}$"
      ],
      "text/plain": [
       "<IPython.core.display.Math object>"
      ]
     },
     "metadata": {},
     "output_type": "display_data"
    },
    {
     "data": {
      "text/latex": [
       "$\\displaystyle \\log{\\left(\\frac{3}{4}\\right)} = \\log(3)-\\log(4)$"
      ],
      "text/plain": [
       "<IPython.core.display.Math object>"
      ]
     },
     "metadata": {},
     "output_type": "display_data"
    }
   ],
   "source": [
    "# repeat for division\n",
    "\n",
    "res1 = np.log(a/b)\n",
    "res2 = np.log(a) / np.log(b)\n",
    "res3 = np.log(a) - np.log(b)\n",
    "\n",
    "display(Math('\\\\log(\\\\frac{%g}{%g}) = %g' %(a,b,res1)))\n",
    "display(Math('\\\\log(%g)/\\\\log(%g) = %g' %(a,b,res2)))\n",
    "display(Math('\\\\log(%g)-\\\\log(%g) = %g' %(a,b,res3)))\n",
    "\n",
    "display(Math('\\\\log{\\\\left(\\\\frac{%g}{%g}\\\\right)} \\\\neq \\\\frac{\\\\log(%g)}{\\\\log(%g)}' %(a,b,a,b)))\n",
    "display(Math('\\\\log{\\\\left(\\\\frac{%g}{%g}\\\\right)} = \\\\log(%g)-\\\\log(%g)' %(a,b,a,b)))\n"
   ]
  },
  {
   "cell_type": "markdown",
   "metadata": {},
   "source": [
    "### Exercise"
   ]
  },
  {
   "cell_type": "code",
   "execution_count": 67,
   "metadata": {},
   "outputs": [
    {
     "name": "stdout",
     "output_type": "stream",
     "text": [
      "0.0\n"
     ]
    }
   ],
   "source": [
    "# exponential rule\n",
    "\n",
    "expr1 = np.log(a**b)\n",
    "expr2 = b*np.log(a)\n",
    "\n",
    "print(expr1-expr2)"
   ]
  },
  {
   "cell_type": "code",
   "execution_count": 68,
   "metadata": {},
   "outputs": [
    {
     "name": "stdout",
     "output_type": "stream",
     "text": [
      "3.295836866004329 0.0 0.0\n"
     ]
    }
   ],
   "source": [
    "expr1 = np.log(3**3)\n",
    "expr2 = 3*np.log(3)\n",
    "expr3 = np.log(3) + np.log(3) + np.log(3)\n",
    "\n",
    "print(expr1,expr1-expr2,expr1-expr3)"
   ]
  },
  {
   "cell_type": "markdown",
   "metadata": {},
   "source": [
    "# VIDEO: Scientific notation"
   ]
  },
  {
   "cell_type": "code",
   "execution_count": 69,
   "metadata": {},
   "outputs": [
    {
     "data": {
      "text/plain": [
       "'2.938429e+09'"
      ]
     },
     "execution_count": 69,
     "metadata": {},
     "output_type": "execute_result"
    }
   ],
   "source": [
    "# write the following number in scientific notation\n",
    "x = 2938429348\n",
    "\n",
    "'{:,e}'.format(x)"
   ]
  },
  {
   "cell_type": "code",
   "execution_count": 70,
   "metadata": {},
   "outputs": [
    {
     "data": {
      "text/plain": [
       "'2,938,429,348'"
      ]
     },
     "execution_count": 70,
     "metadata": {},
     "output_type": "execute_result"
    }
   ],
   "source": [
    "# numbers are easier to read with commas!\n",
    "\n",
    "# or f\n",
    "'{:,d}'.format(x)"
   ]
  },
  {
   "cell_type": "code",
   "execution_count": 71,
   "metadata": {},
   "outputs": [
    {
     "data": {
      "text/plain": [
       "'2.94e+09'"
      ]
     },
     "execution_count": 71,
     "metadata": {},
     "output_type": "execute_result"
    }
   ],
   "source": [
    "# another way...\n",
    "'%.2e' %(x)"
   ]
  },
  {
   "cell_type": "code",
   "execution_count": 72,
   "metadata": {},
   "outputs": [
    {
     "name": "stdout",
     "output_type": "stream",
     "text": [
      "2.938e+09\n",
      "<class 'str'>\n"
     ]
    },
    {
     "data": {
      "text/plain": [
       "'93'"
      ]
     },
     "execution_count": 72,
     "metadata": {},
     "output_type": "execute_result"
    }
   ],
   "source": [
    "# notice this is a string\n",
    "\n",
    "s = '%.3e' %(x)\n",
    "print(s)\n",
    "print( type(s) )\n",
    "\n",
    "# so you can index or slice parts of it\n",
    "s[2:4]"
   ]
  },
  {
   "cell_type": "markdown",
   "metadata": {},
   "source": [
    "### Exercise"
   ]
  },
  {
   "cell_type": "code",
   "execution_count": 73,
   "metadata": {},
   "outputs": [
    {
     "data": {
      "text/latex": [
       "$\\displaystyle 2342\\text{ is }3\\text{ orders of magnitude, }\\approx 2\\times10^{3}$"
      ],
      "text/plain": [
       "<IPython.core.display.Math object>"
      ]
     },
     "metadata": {},
     "output_type": "display_data"
    }
   ],
   "source": [
    "# list the number\n",
    "num = 2342\n",
    "\n",
    "# order of magnitude\n",
    "orderOfMag = int(np.floor(np.log10(abs(num))))\n",
    "\n",
    "# convert to scientific notation and get the characters before the period\n",
    "numstr = '{:,e}'.format(num)\n",
    "wheredot = numstr.find('.')\n",
    "scinot = numstr[:wheredot]\n",
    "\n",
    "display(Math( '%s\\\\text{ is }%s\\\\text{ orders of magnitude, }\\\\approx %s\\\\times10^{%g}' \\\n",
    "             %(num,orderOfMag,scinot,orderOfMag) ))"
   ]
  },
  {
   "cell_type": "markdown",
   "metadata": {},
   "source": [
    "# VIDEO: Maxima and minima of a function"
   ]
  },
  {
   "cell_type": "code",
   "execution_count": 74,
   "metadata": {},
   "outputs": [
    {
     "name": "stdout",
     "output_type": "stream",
     "text": [
      "5.5\n",
      "1\n"
     ]
    }
   ],
   "source": [
    "# max and argmax\n",
    "lst = [-4,5.5,3,2]\n",
    "\n",
    "print(np.max(lst))\n",
    "print(np.argmax(lst))\n"
   ]
  },
  {
   "cell_type": "code",
   "execution_count": 75,
   "metadata": {},
   "outputs": [
    {
     "name": "stdout",
     "output_type": "stream",
     "text": [
      "-0.7388185920927908\n",
      "9\n"
     ]
    },
    {
     "data": {
      "image/png": "[encoded data removed]",
      "text/plain": [
       "<Figure size 432x288 with 1 Axes>"
      ]
     },
     "metadata": {
      "needs_background": "light"
     },
     "output_type": "display_data"
    }
   ],
   "source": [
    "# method: evaluate specific points in the function\n",
    "\n",
    "# x range\n",
    "x = np.linspace(0,2*np.pi,20)\n",
    "\n",
    "# the function f(x)\n",
    "fx = -( np.cos(x) + x**(1/2) )\n",
    "\n",
    "# find the maximum value of this function\n",
    "fmax = np.max(fx)\n",
    "print(fmax)\n",
    "\n",
    "# but we also need to know the location where this maximum is obtained\n",
    "fmaxidx = np.argmax(fx)\n",
    "print(fmaxidx)\n",
    "\n",
    "# draw the function\n",
    "plt.plot(x,fx,'bo-')\n",
    "plt.plot(x[fmaxidx],fmax,'rs')\n",
    "\n",
    "plt.xlabel('radians')\n",
    "plt.xticks(np.round(np.arange(0,2*np.pi,np.pi/4),2))\n",
    "plt.show()"
   ]
  },
  {
   "cell_type": "code",
   "execution_count": 76,
   "metadata": {},
   "outputs": [
    {
     "data": {
      "image/png": "[encoded data removed]",
      "text/plain": [
       "<Figure size 432x288 with 1 Axes>"
      ]
     },
     "metadata": {
      "needs_background": "light"
     },
     "output_type": "display_data"
    }
   ],
   "source": [
    "# minimum\n",
    "\n",
    "# the range and the function\n",
    "x = np.linspace(-2,2,50)\n",
    "fx = x**3 + x**4\n",
    "\n",
    "# find the minimum\n",
    "fminidx = np.argmin(fx)\n",
    "\n",
    "# draw the function\n",
    "plt.plot(x,fx,'bo-')\n",
    "plt.plot(x[fminidx],fx[fminidx],'ms',markersize=10)\n",
    "\n",
    "plt.ylim([-.2,.2])\n",
    "plt.xlim([-1.2,.5])\n",
    "plt.show()\n"
   ]
  },
  {
   "cell_type": "markdown",
   "metadata": {},
   "source": [
    "### Exercise"
   ]
  },
  {
   "cell_type": "code",
   "execution_count": 77,
   "metadata": {},
   "outputs": [
    {
     "name": "stdout",
     "output_type": "stream",
     "text": [
      "(array([ 15,  49,  82, 116, 149, 182], dtype=int64), {})\n"
     ]
    },
    {
     "data": {
      "image/png": "[encoded data removed]",
      "text/plain": [
       "<Figure size 432x288 with 1 Axes>"
      ]
     },
     "metadata": {
      "needs_background": "light"
     },
     "output_type": "display_data"
    }
   ],
   "source": [
    "from scipy.signal import find_peaks\n",
    "\n",
    "# x range\n",
    "x = np.linspace(0,12*np.pi,200)\n",
    "\n",
    "# the function f(x)\n",
    "fx = -( np.cos(x) + x**(1/2) )\n",
    "\n",
    "# find peaks\n",
    "peeks = find_peaks(fx)\n",
    "print(peeks)\n",
    "\n",
    "# draw the function\n",
    "plt.plot(x,fx)\n",
    "plt.plot(x[peeks[0]],fx[peeks[0]],'o')\n",
    "plt.show()\n"
   ]
  },
  {
   "cell_type": "markdown",
   "metadata": {},
   "source": [
    "# VIDEO: Even and odd functions"
   ]
  },
  {
   "cell_type": "code",
   "execution_count": 78,
   "metadata": {},
   "outputs": [
    {
     "data": {
      "image/png": "[encoded data removed]",
      "text/plain": [
       "<Figure size 432x288 with 1 Axes>"
      ]
     },
     "metadata": {
      "needs_background": "light"
     },
     "output_type": "display_data"
    }
   ],
   "source": [
    "# create an even function\n",
    "x = np.linspace(-5,5,20)\n",
    "\n",
    "fEven = x**2\n",
    "\n",
    "fEvenNegative = (-x)**2\n",
    "\n",
    "plt.plot(x,fEven)\n",
    "plt.plot(x,fEvenNegative,'ro')\n",
    "plt.show()"
   ]
  },
  {
   "cell_type": "code",
   "execution_count": 79,
   "metadata": {},
   "outputs": [
    {
     "data": {
      "image/png": "[encoded data removed]",
      "text/plain": [
       "<Figure size 432x288 with 1 Axes>"
      ]
     },
     "metadata": {
      "needs_background": "light"
     },
     "output_type": "display_data"
    }
   ],
   "source": [
    "# create an odd function\n",
    "x = np.linspace(-5,5,20)\n",
    "\n",
    "fOdd = x**3\n",
    "\n",
    "fOddNegative = (-x)**3\n",
    "\n",
    "plt.plot(x,fOdd)\n",
    "plt.plot(x,fOddNegative,'ro')\n",
    "plt.plot(x,-fOddNegative,'gs')\n",
    "plt.show()"
   ]
  },
  {
   "cell_type": "markdown",
   "metadata": {},
   "source": [
    "### Exercise"
   ]
  },
  {
   "cell_type": "code",
   "execution_count": 80,
   "metadata": {},
   "outputs": [
    {
     "data": {
      "image/png": "[encoded data removed]",
      "text/plain": [
       "<Figure size 432x288 with 1 Axes>"
      ]
     },
     "metadata": {
      "needs_background": "light"
     },
     "output_type": "display_data"
    },
    {
     "data": {
      "image/png": "[encoded data removed]",
      "text/plain": [
       "<Figure size 432x288 with 1 Axes>"
      ]
     },
     "metadata": {
      "needs_background": "light"
     },
     "output_type": "display_data"
    }
   ],
   "source": [
    "# using graphing to infer whether cos and sine are even or odd functions\n",
    "\n",
    "theta = np.linspace(-2*np.pi,2*np.pi,40)\n",
    "\n",
    "cosfun = np.cos(theta)\n",
    "cosfunN = np.cos(-theta)\n",
    "\n",
    "plt.plot(theta,cosfun)\n",
    "plt.plot(theta,cosfunN,'ro')\n",
    "plt.show()\n",
    "\n",
    "\n",
    "# repeat for sin\n",
    "sinfun = np.sin(theta)\n",
    "sinfunN = np.sin(-theta)\n",
    "\n",
    "plt.plot(theta,sinfun)\n",
    "plt.plot(theta,sinfunN,'ro')\n",
    "plt.plot(theta,-sinfunN,'ys')\n",
    "plt.show()\n"
   ]
  },
  {
   "cell_type": "markdown",
   "metadata": {},
   "source": [
    "# VIDEO: Arithmetic and geometric sequences"
   ]
  },
  {
   "cell_type": "code",
   "execution_count": 81,
   "metadata": {},
   "outputs": [
    {
     "name": "stdout",
     "output_type": "stream",
     "text": [
      "[ 2  5  8 11 14 17]\n"
     ]
    }
   ],
   "source": [
    "# arithmetic sequence\n",
    "\n",
    "a = 2\n",
    "d = 3\n",
    "maxn = 6\n",
    "\n",
    "ariseq = a + d*np.arange(0,maxn)\n",
    "print(ariseq)"
   ]
  },
  {
   "cell_type": "code",
   "execution_count": 82,
   "metadata": {},
   "outputs": [
    {
     "name": "stdout",
     "output_type": "stream",
     "text": [
      "[  2   6  18  54 162 486]\n"
     ]
    }
   ],
   "source": [
    "# geometric sequence\n",
    "a = 2\n",
    "r = 3\n",
    "\n",
    "geoseq = a * r**np.arange(0,maxn)\n",
    "print(geoseq)\n"
   ]
  },
  {
   "cell_type": "code",
   "execution_count": 83,
   "metadata": {},
   "outputs": [
    {
     "data": {
      "image/png": "[encoded data removed]",
      "text/plain": [
       "<Figure size 432x288 with 1 Axes>"
      ]
     },
     "metadata": {
      "needs_background": "light"
     },
     "output_type": "display_data"
    }
   ],
   "source": [
    "plt.plot(ariseq,'ks',label='arithmetic')\n",
    "plt.plot(geoseq,'ro',label='geometric')\n",
    "\n",
    "plt.xlim([-.5,maxn-.5])\n",
    "plt.legend()\n",
    "plt.show()"
   ]
  },
  {
   "cell_type": "markdown",
   "metadata": {},
   "source": [
    "### Exercise"
   ]
  },
  {
   "cell_type": "code",
   "execution_count": 84,
   "metadata": {},
   "outputs": [
    {
     "name": "stdout",
     "output_type": "stream",
     "text": [
      "17 17\n",
      "486 486\n"
     ]
    }
   ],
   "source": [
    "# confirm that nth term is a+(n-1)*d and a*r**(n-1) by indexing and direct computation\n",
    "\n",
    "# parameters\n",
    "a = 2\n",
    "d = 3\n",
    "maxn = 10\n",
    "\n",
    "# compute sequences\n",
    "ariseq = a + d*np.arange(0,maxn)\n",
    "geoseq = a * d**np.arange(0,maxn)\n",
    "\n",
    "# which element to find?\n",
    "nth = 6\n",
    "\n",
    "# find by direct computation\n",
    "ariDirect = a + (nth-1)*d\n",
    "geoDirect = a * d**(nth-1)\n",
    "\n",
    "# compare against order in sequence\n",
    "print(ariseq[nth-1],ariDirect)\n",
    "print(geoseq[nth-1],geoDirect)\n"
   ]
  },
  {
   "cell_type": "markdown",
   "metadata": {},
   "source": [
    "# VIDEO: Algebra BUG HUNT!"
   ]
  },
  {
   "cell_type": "code",
   "execution_count": null,
   "metadata": {},
   "outputs": [],
   "source": [
    "# create a list\n",
    "lst = [1,3,4,1,6]\n",
    "\n",
    "print( lst )"
   ]
  },
  {
   "cell_type": "code",
   "execution_count": null,
   "metadata": {},
   "outputs": [],
   "source": [
    "# add all the numbers together\n",
    "print( np.sum(lst) )"
   ]
  },
  {
   "cell_type": "code",
   "execution_count": null,
   "metadata": {},
   "outputs": [],
   "source": [
    "# plot the cumulative sum of a list of numbers\n",
    "l = np.arange(-4,10)\n",
    "\n",
    "plt.plot(l,'rs-')\n",
    "plt.plot(np.cumsum(1),'bo-')\n",
    "plt.legend({'list','cumsum'})\n",
    "plt.show()"
   ]
  },
  {
   "cell_type": "code",
   "execution_count": null,
   "metadata": {},
   "outputs": [],
   "source": [
    "### the equation:\n",
    "# 4 - 2x + 5x^3\n",
    "\n",
    "# define the coefficients\n",
    "coefs = [5,0,-2,4]\n",
    "\n",
    "# solve\n",
    "roots = np.roots(coefs)\n",
    "\n",
    "# and display\n",
    "from sympy.abc import x\n",
    "\n",
    "p = sym.Poly(coefs,x)\n",
    "\n",
    "display(Math(sym.latex(p)))"
   ]
  },
  {
   "cell_type": "code",
   "execution_count": null,
   "metadata": {},
   "outputs": [],
   "source": [
    "def quadeq(a,b,c):\n",
    "    \n",
    "    # compute\n",
    "    out0 = ( -b - np.sqrt(b**2 - 4*a*c,dtype=complex) ) / (2*a)\n",
    "    out1 = ( -b + np.sqrt(b**2 - 4*a*c,dtype=complex) ) / (2*a)\n",
    "    \n",
    "    # output\n",
    "    return [out0,out1]\n",
    "\n",
    "# test the function\n",
    "print(quadeq(1,4,2))"
   ]
  },
  {
   "cell_type": "code",
   "execution_count": null,
   "metadata": {},
   "outputs": [],
   "source": [
    "# create a complex number\n",
    "\n",
    "real_part = 4\n",
    "imag_part = -6\n",
    "\n",
    "cn = np.complex(real_part,imag_part)\n",
    "\n",
    "plt.plot(np.real(cn),np.imag(cn),'ro')\n",
    "plt.grid('on')\n",
    "plt.axis('square')\n",
    "plt.axis([-10,10,-10,10])\n",
    "plt.show()"
   ]
  },
  {
   "cell_type": "code",
   "execution_count": null,
   "metadata": {},
   "outputs": [],
   "source": [
    "# symbolic complex number\n",
    "a,b = sym.symbols('a,b',real=True)\n",
    "\n",
    "z = a + b*sym.I\n",
    "display(Math('z\\\\times z^* = %s' %sym.latex(sym.expand(z*sym.conjugate(z)))))"
   ]
  },
  {
   "cell_type": "code",
   "execution_count": null,
   "metadata": {},
   "outputs": [],
   "source": [
    "# define the phase angles\n",
    "x = np.linspace(0,2*np.pi,100)\n",
    "\n",
    "# generate the plot\n",
    "plt.plot(np.cos(x),np.sin(x),'k')\n",
    "\n",
    "# draw one vector from the origin\n",
    "phs = 1*np.pi/4\n",
    "plt.plot([0,np.cos(phs)],[0,np.sin(phs)],'r-')\n",
    "plt.plot(np.cos(phs),np.sin(phs),'ro')\n",
    "\n",
    "\n",
    "# draw axis lines\n",
    "plt.plot([-1.3,1.3],[0,0],'--',color=[.8,.8,.8])\n",
    "plt.plot([0,0],[-1.3,1.3],'--',color=[.8,.8,.8])\n",
    "\n",
    "# make it look nicer\n",
    "plt.axis('square')\n",
    "plt.axis([-1.3,1.3,-1.3,1.3])\n",
    "plt.xlabel('cosine(x)')\n",
    "plt.ylabel('sine(x)')\n",
    "plt.plot()\n",
    "\n",
    "plt.show()"
   ]
  },
  {
   "cell_type": "code",
   "execution_count": null,
   "metadata": {},
   "outputs": [],
   "source": [
    "a =   2 # lower bound\n",
    "b = 100 # upper bound\n",
    "n =   3 # number of steps\n",
    "\n",
    "lo = np.logspace(np.log10(a),np.log10(b),n)\n",
    "li = np.linspace(a,b,n)\n",
    "\n",
    "plt.plot(li,lo,'s-',label='log')\n",
    "plt.plot(li,li,'o-',label='linear')\n",
    "\n",
    "plt.legend()\n",
    "plt.axis('square')\n",
    "plt.show()"
   ]
  },
  {
   "cell_type": "code",
   "execution_count": null,
   "metadata": {},
   "outputs": [],
   "source": [
    "## Goal is to plot the point on the function closest to f(x)=.5\n",
    "\n",
    "\n",
    "# x range\n",
    "x = np.linspace(-6,10,20)\n",
    "\n",
    "# the function f(x)\n",
    "fx = 1/(1+np.exp(x))\n",
    "\n",
    "# function maximum\n",
    "fmaxidx = np.argmin(abs(fx-.5))\n",
    "\n",
    "# draw the function\n",
    "plt.plot(x,fx,'bo-')\n",
    "plt.plot(x[fmaxidx],fx[fmaxidx],'rs')\n",
    "\n",
    "plt.show()"
   ]
  },
  {
   "cell_type": "code",
   "execution_count": null,
   "metadata": {},
   "outputs": [],
   "source": [
    "## Goal is to find the local minima by adding one character\n",
    "\n",
    "from scipy.signal import find_peaks\n",
    "\n",
    "# x range\n",
    "x = np.linspace(0,12*np.pi,200)\n",
    "\n",
    "# the function f(x)\n",
    "fx = -( np.cos(x) + x**(1/2) )\n",
    "\n",
    "# find peaks\n",
    "peeks = find_peaks(-fx)\n",
    "\n",
    "# draw the function\n",
    "plt.plot(x,fx)\n",
    "plt.plot(x[peeks[0]],fx[peeks[0]],'o')\n",
    "plt.show()\n"
   ]
  }
 ],
 "metadata": {
  "kernelspec": {
   "display_name": "Python 3",
   "language": "python",
   "name": "python3"
  },
  "language_info": {
   "codemirror_mode": {
    "name": "ipython",
    "version": 3
   },
   "file_extension": ".py",
   "mimetype": "text/x-python",
   "name": "python",
   "nbconvert_exporter": "python",
   "pygments_lexer": "ipython3",
   "version": "3.10.0"
  }
 },
 "nbformat": 4,
 "nbformat_minor": 2
}
